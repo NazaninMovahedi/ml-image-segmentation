{
 "cells": [
  {
   "cell_type": "code",
   "execution_count": 1,
   "id": "3a16a21b-b083-48d3-88f1-1eadc1a830f0",
   "metadata": {},
   "outputs": [],
   "source": [
    "import numpy as np"
   ]
  },
  {
   "cell_type": "code",
   "execution_count": null,
   "id": "81620647-9af5-4169-851c-dedb4a446d63",
   "metadata": {},
   "outputs": [],
   "source": [
    "np.arra"
   ]
  },
  {
   "cell_type": "code",
   "execution_count": null,
   "id": "ab1a010d-cb54-45c3-b2ce-ce132fb593a9",
   "metadata": {},
   "outputs": [],
   "source": []
  },
  {
   "cell_type": "code",
   "execution_count": null,
   "id": "dd3bb8f5-6bdf-4380-997b-bcdd516c737d",
   "metadata": {},
   "outputs": [],
   "source": []
  },
  {
   "cell_type": "code",
   "execution_count": null,
   "id": "3625b206-a2a1-4c3f-b5a5-6e0e9b4604e7",
   "metadata": {},
   "outputs": [],
   "source": []
  },
  {
   "cell_type": "code",
   "execution_count": null,
   "id": "6c4b4522-08f6-4043-abb1-14dfdd916e8f",
   "metadata": {},
   "outputs": [],
   "source": []
  },
  {
   "cell_type": "code",
   "execution_count": null,
   "id": "718fcd54-d0b6-4652-8e2b-97405066195d",
   "metadata": {},
   "outputs": [],
   "source": []
  },
  {
   "cell_type": "code",
   "execution_count": null,
   "id": "d549f55e-f1e7-482b-835d-dc4a55358311",
   "metadata": {},
   "outputs": [],
   "source": []
  },
  {
   "cell_type": "code",
   "execution_count": null,
   "id": "91f8c31a-eb21-453d-aa77-9c6100c6e801",
   "metadata": {},
   "outputs": [],
   "source": []
  },
  {
   "cell_type": "code",
   "execution_count": null,
   "id": "2615796b-ef3e-4fe9-ac1c-0e22724a40fd",
   "metadata": {},
   "outputs": [],
   "source": []
  }
 ],
 "metadata": {
  "kernelspec": {
   "display_name": "Python 3 (ipykernel)",
   "language": "python",
   "name": "python3"
  },
  "language_info": {
   "codemirror_mode": {
    "name": "ipython",
    "version": 3
   },
   "file_extension": ".py",
   "mimetype": "text/x-python",
   "name": "python",
   "nbconvert_exporter": "python",
   "pygments_lexer": "ipython3",
   "version": "3.10.11"
  }
 },
 "nbformat": 4,
 "nbformat_minor": 5
}
